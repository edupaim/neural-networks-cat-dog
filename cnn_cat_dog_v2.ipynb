{
 "cells": [
  {
   "cell_type": "code",
   "execution_count": 1,
   "metadata": {
    "collapsed": true,
    "ExecuteTime": {
     "end_time": "2023-06-26T12:44:52.990412694Z",
     "start_time": "2023-06-26T12:44:50.083664620Z"
    }
   },
   "outputs": [
    {
     "name": "stderr",
     "output_type": "stream",
     "text": [
      "2023-06-26 09:44:50.620957: I tensorflow/tsl/cuda/cudart_stub.cc:28] Could not find cuda drivers on your machine, GPU will not be used.\n",
      "2023-06-26 09:44:50.798391: I tensorflow/tsl/cuda/cudart_stub.cc:28] Could not find cuda drivers on your machine, GPU will not be used.\n",
      "2023-06-26 09:44:50.799131: I tensorflow/core/platform/cpu_feature_guard.cc:182] This TensorFlow binary is optimized to use available CPU instructions in performance-critical operations.\n",
      "To enable the following instructions: AVX2 FMA, in other operations, rebuild TensorFlow with the appropriate compiler flags.\n",
      "2023-06-26 09:44:51.936171: W tensorflow/compiler/tf2tensorrt/utils/py_utils.cc:38] TF-TRT Warning: Could not find TensorRT\n"
     ]
    }
   ],
   "source": [
    "import sys\n",
    "import tensorflow as tf\n",
    "import os\n",
    "import keras.layers\n",
    "from keras.preprocessing.image import ImageDataGenerator\n",
    "from keras.callbacks import EarlyStopping, ReduceLROnPlateau\n",
    "from keras.preprocessing import image\n",
    "import pandas as pd\n",
    "import numpy as np\n",
    "import matplotlib.pyplot as plt\n",
    "import seaborn as sns\n",
    "from sklearn.metrics import confusion_matrix, classification_report\n",
    "\n",
    "os.environ['TF_CPP_MIN_LOG_LEVEL'] = '1'"
   ]
  },
  {
   "cell_type": "code",
   "execution_count": 2,
   "outputs": [
    {
     "name": "stdout",
     "output_type": "stream",
     "text": [
      "./datasets/cats_vs_dogs.zip\n"
     ]
    }
   ],
   "source": [
    "# Carregar os dados do conjunto \"cats_vs_dogs\" do TensorFlow\n",
    "data_path = tf.keras.utils.get_file(\n",
    "    'cats_vs_dogs.zip',\n",
    "    'https://storage.googleapis.com/mledu-datasets/cats_and_dogs_filtered.zip',\n",
    "    extract=True,\n",
    "    cache_dir='./'\n",
    ")\n",
    "\n",
    "print(data_path)\n",
    "data_dir = os.path.join(os.path.dirname(data_path), 'cats_and_dogs_filtered')\n",
    "\n",
    "train_dir = os.path.join(data_dir, 'train')\n",
    "validation_dir = os.path.join(data_dir, 'validation')"
   ],
   "metadata": {
    "collapsed": false,
    "ExecuteTime": {
     "end_time": "2023-06-26T12:45:30.896628330Z",
     "start_time": "2023-06-26T12:45:29.307002750Z"
    }
   }
  },
  {
   "cell_type": "code",
   "execution_count": 6,
   "outputs": [],
   "source": [
    "# Iniciar alguns atributos e parametros\n",
    "with_data_augmentation = True\n",
    "model_name = \"cnn2\"  # mlp, cnn, cnn2, cnn2_dp(with batch normalization)\n",
    "\n",
    "batch_size = 20\n",
    "img_size = 256\n",
    "epochs = 50"
   ],
   "metadata": {
    "collapsed": false,
    "ExecuteTime": {
     "end_time": "2023-06-26T12:54:14.532201988Z",
     "start_time": "2023-06-26T12:54:14.522605099Z"
    }
   }
  },
  {
   "cell_type": "code",
   "execution_count": 7,
   "outputs": [
    {
     "name": "stdout",
     "output_type": "stream",
     "text": [
      "Found 2000 images belonging to 2 classes.\n",
      "Found 1000 images belonging to 2 classes.\n"
     ]
    }
   ],
   "source": [
    "# Iniciar os iteradores de imagem\n",
    "train_image_data_generator = ImageDataGenerator(rescale=1. / 255)\n",
    "train_image_data_generator_with_augmentation = ImageDataGenerator(\n",
    "    rescale=1. / 255,\n",
    "    rotation_range=40,\n",
    "    width_shift_range=0.2,\n",
    "    height_shift_range=0.2,\n",
    "    shear_range=0.2,\n",
    "    zoom_range=0.2,\n",
    "    horizontal_flip=True,\n",
    "    fill_mode='nearest',\n",
    ")\n",
    "\n",
    "if with_data_augmentation:\n",
    "    train_generator = train_image_data_generator_with_augmentation\n",
    "else:\n",
    "    train_generator = train_image_data_generator\n",
    "train_iterator = train_generator.flow_from_directory(\n",
    "    train_dir,\n",
    "    target_size=(img_size, img_size),\n",
    "    batch_size=batch_size,\n",
    "    shuffle=True,\n",
    "    class_mode='binary')\n",
    "\n",
    "validation_image_data_generator = ImageDataGenerator(rescale=1. / 255.0)\n",
    "validation_iterator = validation_image_data_generator.flow_from_directory(\n",
    "    validation_dir,\n",
    "    target_size=(img_size, img_size),\n",
    "    batch_size=batch_size,\n",
    "    shuffle=True,\n",
    "    class_mode='binary')"
   ],
   "metadata": {
    "collapsed": false,
    "ExecuteTime": {
     "end_time": "2023-06-26T12:54:15.856913155Z",
     "start_time": "2023-06-26T12:54:15.722922947Z"
    }
   }
  },
  {
   "cell_type": "code",
   "execution_count": null,
   "outputs": [
    {
     "name": "stdout",
     "output_type": "stream",
     "text": [
      "Model: \"sequential_6\"\n",
      "_________________________________________________________________\n",
      " Layer (type)                Output Shape              Param #   \n",
      "=================================================================\n",
      " conv2d_15 (Conv2D)          (None, 254, 254, 16)      448       \n",
      "                                                                 \n",
      " max_pooling2d_15 (MaxPoolin  (None, 127, 127, 16)     0         \n",
      " g2D)                                                            \n",
      "                                                                 \n",
      " conv2d_16 (Conv2D)          (None, 125, 125, 32)      4640      \n",
      "                                                                 \n",
      " max_pooling2d_16 (MaxPoolin  (None, 62, 62, 32)       0         \n",
      " g2D)                                                            \n",
      "                                                                 \n",
      " conv2d_17 (Conv2D)          (None, 60, 60, 64)        18496     \n",
      "                                                                 \n",
      " max_pooling2d_17 (MaxPoolin  (None, 30, 30, 64)       0         \n",
      " g2D)                                                            \n",
      "                                                                 \n",
      " flatten_6 (Flatten)         (None, 57600)             0         \n",
      "                                                                 \n",
      " dense_12 (Dense)            (None, 512)               29491712  \n",
      "                                                                 \n",
      " dense_13 (Dense)            (None, 1)                 513       \n",
      "                                                                 \n",
      "=================================================================\n",
      "Total params: 29,515,809\n",
      "Trainable params: 29,515,809\n",
      "Non-trainable params: 0\n",
      "_________________________________________________________________\n",
      "Epoch 1/50\n"
     ]
    },
    {
     "name": "stderr",
     "output_type": "stream",
     "text": [
      "2023-06-26 09:54:20.312196: I tensorflow/core/common_runtime/executor.cc:1197] [/device:CPU:0] (DEBUG INFO) Executor start aborting (this does not indicate an error and you can ignore this message): INVALID_ARGUMENT: You must feed a value for placeholder tensor 'Placeholder/_0' with dtype int32\n",
      "\t [[{{node Placeholder/_0}}]]\n"
     ]
    },
    {
     "name": "stdout",
     "output_type": "stream",
     "text": [
      "100/100 [==============================] - ETA: 0s - loss: 0.7764 - accuracy: 0.5370"
     ]
    },
    {
     "name": "stderr",
     "output_type": "stream",
     "text": [
      "2023-06-26 09:56:10.514114: I tensorflow/core/common_runtime/executor.cc:1197] [/device:CPU:0] (DEBUG INFO) Executor start aborting (this does not indicate an error and you can ignore this message): INVALID_ARGUMENT: You must feed a value for placeholder tensor 'Placeholder/_0' with dtype int32\n",
      "\t [[{{node Placeholder/_0}}]]\n"
     ]
    },
    {
     "name": "stdout",
     "output_type": "stream",
     "text": [
      "100/100 [==============================] - 120s 1s/step - loss: 0.7764 - accuracy: 0.5370 - val_loss: 0.6588 - val_accuracy: 0.5990 - lr: 0.0010\n",
      "Epoch 2/50\n",
      "100/100 [==============================] - 135s 1s/step - loss: 0.6928 - accuracy: 0.5490 - val_loss: 0.6859 - val_accuracy: 0.5830 - lr: 0.0010\n",
      "Epoch 3/50\n",
      "100/100 [==============================] - ETA: 0s - loss: 0.6863 - accuracy: 0.5480\n",
      "Epoch 3: ReduceLROnPlateau reducing learning rate to 0.0005000000237487257.\n",
      "100/100 [==============================] - 142s 1s/step - loss: 0.6863 - accuracy: 0.5480 - val_loss: 0.6828 - val_accuracy: 0.5400 - lr: 0.0010\n",
      "Epoch 4/50\n",
      "100/100 [==============================] - 129s 1s/step - loss: 0.6748 - accuracy: 0.5930 - val_loss: 0.6313 - val_accuracy: 0.6690 - lr: 5.0000e-04\n",
      "Epoch 5/50\n",
      "100/100 [==============================] - 127s 1s/step - loss: 0.6371 - accuracy: 0.6400 - val_loss: 0.6118 - val_accuracy: 0.6300 - lr: 5.0000e-04\n",
      "Epoch 6/50\n",
      "100/100 [==============================] - ETA: 0s - loss: 0.6278 - accuracy: 0.6545\n",
      "Epoch 6: ReduceLROnPlateau reducing learning rate to 0.0002500000118743628.\n",
      "100/100 [==============================] - 116s 1s/step - loss: 0.6278 - accuracy: 0.6545 - val_loss: 0.6254 - val_accuracy: 0.6350 - lr: 5.0000e-04\n",
      "Epoch 7/50\n",
      "100/100 [==============================] - 120s 1s/step - loss: 0.6030 - accuracy: 0.6695 - val_loss: 0.5700 - val_accuracy: 0.6960 - lr: 2.5000e-04\n",
      "Epoch 8/50\n",
      "100/100 [==============================] - 119s 1s/step - loss: 0.5850 - accuracy: 0.6895 - val_loss: 0.5356 - val_accuracy: 0.7250 - lr: 2.5000e-04\n",
      "Epoch 9/50\n",
      "100/100 [==============================] - 126s 1s/step - loss: 0.5734 - accuracy: 0.7075 - val_loss: 0.5277 - val_accuracy: 0.7320 - lr: 2.5000e-04\n",
      "Epoch 10/50\n",
      " 53/100 [==============>...............] - ETA: 53s - loss: 0.5718 - accuracy: 0.7009"
     ]
    }
   ],
   "source": [
    "# Iniciar, construir e treinar o modelo\n",
    "early_stop = EarlyStopping(\n",
    "    patience=10,\n",
    "    verbose=1,\n",
    ")\n",
    "learning_rate_reduction = ReduceLROnPlateau(\n",
    "    monitor='val_accuracy',\n",
    "    patience=2,\n",
    "    verbose=1,\n",
    "    factor=0.5,\n",
    "    min_lr=0.00001\n",
    ")\n",
    "callbacks = [early_stop, learning_rate_reduction]\n",
    "\n",
    "# CNN2_DPOT\n",
    "model_cnn2_dpout = keras.Sequential([\n",
    "    keras.layers.Conv2D(16, (3, 3), activation='relu', input_shape=(img_size, img_size, 3)),\n",
    "    keras.layers.BatchNormalization(),\n",
    "    keras.layers.MaxPool2D((2, 2)),\n",
    "    keras.layers.Dropout(0.25),\n",
    "\n",
    "    keras.layers.Conv2D(32, (3, 3), activation='relu'),\n",
    "    keras.layers.BatchNormalization(),\n",
    "    keras.layers.MaxPool2D((2, 2)),\n",
    "    keras.layers.Dropout(0.25),\n",
    "\n",
    "    keras.layers.Conv2D(64, (3, 3), activation='relu'),\n",
    "    keras.layers.BatchNormalization(),\n",
    "    keras.layers.MaxPool2D((2, 2)),\n",
    "    keras.layers.Dropout(0.25),\n",
    "\n",
    "    keras.layers.Flatten(),\n",
    "    keras.layers.Dense(512, activation='relu'),\n",
    "    keras.layers.BatchNormalization(),\n",
    "    keras.layers.Dropout(0.5),\n",
    "    keras.layers.Dense(1, activation='sigmoid')\n",
    "])\n",
    "\n",
    "# CNN2\n",
    "model_cnn2 = keras.Sequential([\n",
    "    keras.layers.Conv2D(32, (3, 3), activation='relu', input_shape=(img_size, img_size, 3)),\n",
    "    keras.layers.BatchNormalization(),\n",
    "    keras.layers.MaxPool2D((2, 2)),\n",
    "\n",
    "    keras.layers.Conv2D(64, (3, 3), activation='relu'),\n",
    "    keras.layers.BatchNormalization(),\n",
    "    keras.layers.MaxPool2D((2, 2)),\n",
    "\n",
    "    keras.layers.Conv2D(128, (3, 3), activation='relu'),\n",
    "    keras.layers.BatchNormalization(),\n",
    "    keras.layers.MaxPool2D((2, 2)),\n",
    "\n",
    "    keras.layers.Flatten(),\n",
    "    keras.layers.Dense(512, activation='relu'),\n",
    "    keras.layers.BatchNormalization(),\n",
    "    keras.layers.Dense(1, activation='sigmoid')\n",
    "])\n",
    "\n",
    "# CNN\n",
    "model_cnn = keras.Sequential([\n",
    "    keras.layers.Conv2D(16, (3, 3), activation='relu', input_shape=(img_size, img_size, 3)),\n",
    "    keras.layers.MaxPool2D((2, 2)),\n",
    "\n",
    "    keras.layers.Conv2D(32, (3, 3), activation='relu'),\n",
    "    keras.layers.MaxPool2D((2, 2)),\n",
    "\n",
    "    keras.layers.Conv2D(64, (3, 3), activation='relu'),\n",
    "    keras.layers.MaxPool2D((2, 2)),\n",
    "\n",
    "    keras.layers.Flatten(),\n",
    "    keras.layers.Dense(512, activation='relu'),\n",
    "    keras.layers.Dense(1, activation='sigmoid')\n",
    "])\n",
    "\n",
    "# MLP\n",
    "model_mlp = keras.Sequential([\n",
    "    keras.layers.Flatten(input_shape=(img_size, img_size, 3)),\n",
    "    keras.layers.Dense(512, activation='relu'),\n",
    "    keras.layers.Dense(1, activation='sigmoid')\n",
    "])\n",
    "\n",
    "if model_name == \"mlp\":\n",
    "    model = model_mlp\n",
    "elif model_name == \"cnn\":\n",
    "    model = model_cnn\n",
    "elif model_name == \"cnn2\":\n",
    "    model = model_cnn\n",
    "elif model_name == \"cnn2_dp\":\n",
    "    model = model_cnn2_dpout\n",
    "else:\n",
    "    print(\"unknown model name\")\n",
    "    sys.exit()\n",
    "model.compile(optimizer='adam', loss='binary_crossentropy', metrics=['accuracy'])\n",
    "model.summary()\n",
    "\n",
    "history = model.fit(train_iterator,\n",
    "                    validation_data=validation_iterator,\n",
    "                    steps_per_epoch=train_iterator.n // batch_size,\n",
    "                    epochs=epochs,\n",
    "                    validation_steps=validation_iterator.n // batch_size,\n",
    "                    callbacks=callbacks\n",
    "                    )\n"
   ],
   "metadata": {
    "collapsed": false,
    "is_executing": true,
    "ExecuteTime": {
     "start_time": "2023-06-26T12:54:17.457365560Z"
    }
   }
  },
  {
   "cell_type": "code",
   "execution_count": null,
   "outputs": [],
   "source": [
    "results_folder = './results/'\n",
    "file_name_base = model_name"
   ],
   "metadata": {
    "collapsed": false
   }
  },
  {
   "cell_type": "code",
   "execution_count": null,
   "outputs": [],
   "source": [
    "# Construir gráficos de treinamento\n",
    "\n",
    "acc = history.history['accuracy']\n",
    "val_acc = history.history['val_accuracy']\n",
    "y_len = range(len(acc))\n",
    "plt.plot(y_len, acc, 'b', label='Training accuracy')\n",
    "plt.plot(y_len, val_acc, 'r', label='Validation accuracy')\n",
    "bottom, top = plt.gca().get_ylim()\n",
    "if top > 3:\n",
    "    plt.gca().set_ylim(bottom, 3)\n",
    "plt.title('Training and validation accuracy')\n",
    "plt.legend()\n",
    "metric = '-acc'\n",
    "file_name = file_name_base + metric\n",
    "if with_data_augmentation:\n",
    "    file_name += '-dataaug'\n",
    "file_name += '.png'\n",
    "accuracy_img_name = file_name\n",
    "plt.savefig(results_folder + accuracy_img_name)\n",
    "plt.figure()\n",
    "\n",
    "loss = history.history['loss']\n",
    "val_loss = history.history['val_loss']\n",
    "plt.plot(y_len, loss, 'b', label='Training Loss')\n",
    "plt.plot(y_len, val_loss, 'r', label='Validation Loss')\n",
    "bottom, top = plt.gca().get_ylim()\n",
    "if top > 3:\n",
    "    plt.gca().set_ylim(bottom, 3)\n",
    "plt.title('Training and validation loss')\n",
    "plt.legend()\n",
    "metric = '-loss'\n",
    "file_name = file_name_base + metric\n",
    "if with_data_augmentation:\n",
    "    file_name += '-dataaug'\n",
    "file_name += '.png'\n",
    "loss_img_name = file_name\n",
    "plt.savefig(results_folder + loss_img_name)\n",
    "plt.show()\n",
    "\n",
    "pd.DataFrame(history.history).plot(figsize=(8, 5))\n",
    "plt.grid(True)\n",
    "bottom, top = plt.gca().get_ylim()\n",
    "if top > 3:\n",
    "    plt.gca().set_ylim(bottom, 3)\n",
    "metric = '-acc_vs_loss'\n",
    "file_name = file_name_base + metric\n",
    "if with_data_augmentation:\n",
    "    file_name += '-dataaug'\n",
    "acc_vs_loss_file_name = file_name\n",
    "acc_vs_loss_file_name += '.png'\n",
    "plt.savefig(results_folder + acc_vs_loss_file_name)\n",
    "plt.show()"
   ],
   "metadata": {
    "collapsed": false
   }
  },
  {
   "cell_type": "code",
   "execution_count": null,
   "outputs": [],
   "source": [
    "# Avaliar o modelo\n",
    "test_loss, test_acc = model.evaluate(validation_iterator, steps=validation_iterator.n // batch_size)\n",
    "print('Test Loss:', test_loss)\n",
    "print('Test Accuracy:', test_acc)\n",
    "predictions = (model.predict(validation_iterator) >= 0.5).astype(int)\n",
    "cm = confusion_matrix(validation_iterator.labels, predictions, labels=[0, 1])\n",
    "clr = classification_report(validation_iterator.labels, predictions, labels=[0, 1], target_names=[\"CAT\", \"DOG\"])\n",
    "\n",
    "results_folder = './results/'\n",
    "file_name_base = model_name\n",
    "\n",
    "plt.figure(figsize=(6, 6))\n",
    "sns.heatmap(cm, annot=True, fmt='g', vmin=0, cmap='Blues', cbar=False)\n",
    "plt.xticks(ticks=[0.5, 1.5], labels=[\"CAT\", \"DOG\"])\n",
    "plt.yticks(ticks=[0.5, 1.5], labels=[\"CAT\", \"DOG\"])\n",
    "plt.xlabel(\"Predicted\")\n",
    "plt.ylabel(\"Actual\")\n",
    "plt.title(\"Confusion Matrix\")\n",
    "metric = '-cfmatrix'\n",
    "name_file = file_name_base + metric\n",
    "if with_data_augmentation:\n",
    "    name_file += '-dataaug'\n",
    "name_file = name_file + '.png'\n",
    "matrix_file_name = name_file\n",
    "plt.savefig(results_folder + matrix_file_name)\n",
    "plt.show()\n",
    "\n",
    "print(\"Classification Report:\\n----------------------\\n\", clr)"
   ],
   "metadata": {
    "collapsed": false
   }
  },
  {
   "cell_type": "code",
   "execution_count": null,
   "outputs": [],
   "source": [
    "        # Append-adds at last\n",
    "model_def = model_name.upper()\n",
    "if with_data_augmentation:\n",
    "    model_def += \"-DATAAUG\"\n",
    "resultsFile = open(results_folder + \"RESULTS-\" + model_def + \".md\", \"a\")  # append mode\n",
    "resultsFile.write(\"## \" + model_def + \"\\n\\n\")\n",
    "resultsFile.write(\"```\\n\")\n",
    "resultsFile.write(\"Test Accuracy: \" + str(test_acc) + \"\\n\")\n",
    "resultsFile.write(\"Test Loss: \" + str(test_loss) + \"\\n\")\n",
    "resultsFile.write(\"```\\n\\n\")\n",
    "resultsFile.write(\"![](\" + matrix_file_name + \")\\n\\n\")\n",
    "resultsFile.write(\"```\\n\" + clr + \"```\\n\\n\")\n",
    "resultsFile.write(\"![](\" + accuracy_img_name + \")\\n\\n\")\n",
    "resultsFile.write(\"![](\" + loss_img_name + \")\\n\\n\")\n",
    "resultsFile.write(\"![](\" + acc_vs_loss_file_name + \")\\n\\n\")\n",
    "resultsFile.close()\n"
   ],
   "metadata": {
    "collapsed": false
   }
  },
  {
   "cell_type": "code",
   "execution_count": null,
   "outputs": [],
   "source": [
    "# Carregar a imagem de test\n",
    "img_path = './test/cat2.jpg'\n",
    "img = image.load_img(img_path, target_size=(img_size, img_size))\n",
    "img_array = image.img_to_array(img)\n",
    "print(\"to array\", img_array.shape)\n",
    "print(\"to array\", img_array[:1, :2])\n",
    "img_array = np.expand_dims(img_array, axis=0)\n",
    "print(\"after expand dims\", img_array.shape)\n",
    "img_array /= 255.0\n",
    "print(\"after normalization\", img_array.shape)\n",
    "print(\"to array\", img_array[:1, :1, :2])\n",
    "\n",
    "# Fazer a previsão das probabilidades\n",
    "probs = model.predict(img_array)\n",
    "print(probs)\n",
    "\n",
    "# Obter o índice da classe com a probabilidade mais alta\n",
    "predicted_class = np.argmax(probs)\n",
    "# Mapear o índice da classe para a classe correspondente\n",
    "# class_names = ['gato', 'cachorro']\n",
    "# predicted_label = class_names[predicted_class]\n",
    "# print(\"A imagem é classificada como:\", predicted_label)\n",
    "\n",
    "if probs[0] < 0.5:\n",
    "    print(\"A imagem contém um gato.\")\n",
    "else:\n",
    "    print(\"A imagem contém um cachorro.\")"
   ],
   "metadata": {
    "collapsed": false
   }
  },
  {
   "cell_type": "code",
   "execution_count": null,
   "outputs": [],
   "source": [],
   "metadata": {
    "collapsed": false
   }
  }
 ],
 "metadata": {
  "kernelspec": {
   "display_name": "Python 3",
   "language": "python",
   "name": "python3"
  },
  "language_info": {
   "codemirror_mode": {
    "name": "ipython",
    "version": 2
   },
   "file_extension": ".py",
   "mimetype": "text/x-python",
   "name": "python",
   "nbconvert_exporter": "python",
   "pygments_lexer": "ipython2",
   "version": "2.7.6"
  }
 },
 "nbformat": 4,
 "nbformat_minor": 0
}
