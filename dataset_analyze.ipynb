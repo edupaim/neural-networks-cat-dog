{
 "cells": [
  {
   "cell_type": "code",
   "execution_count": 9,
   "metadata": {
    "collapsed": true,
    "ExecuteTime": {
     "end_time": "2023-06-26T04:11:05.511036799Z",
     "start_time": "2023-06-26T04:11:02.699561307Z"
    }
   },
   "outputs": [
    {
     "name": "stdout",
     "output_type": "stream",
     "text": [
      "Estatísticas descritivas:\n",
      "Mínimo das alturas: 41\n",
      "Máximo das alturas: 768\n",
      "Média das alturas: 360.19533333333334\n",
      "Desvio padrão das alturas: 96.38403660127311\n",
      "Quartil das alturas: 109.99000000000001\n",
      "Quartil das alturas: 374.0\n",
      "Quartil das alturas: 500.0\n",
      "Mínimo das larguras: 59\n",
      "Máximo das larguras: 1050\n",
      "Média das larguras: 405.662\n",
      "Desvio padrão das larguras: 108.78836529090171\n"
     ]
    }
   ],
   "source": [
    "import os\n",
    "import matplotlib.pyplot as plt\n",
    "import numpy as np\n",
    "\n",
    "dataset_path = \"./datasets/cats_and_dogs_filtered\"\n",
    "image_dimensions = []\n",
    "\n",
    "# Percorrer o diretório de imagens e obter as dimensões\n",
    "for root, dirs, files in os.walk(dataset_path):\n",
    "    for file in files:\n",
    "        if \".py\" in file:\n",
    "            continue\n",
    "        image_path = os.path.join(root, file)\n",
    "        image = plt.imread(image_path)\n",
    "        height, width, _ = image.shape\n",
    "        image_dimensions.append((height, width))\n",
    "\n",
    "# Calcular estatísticas descritivas\n",
    "image_dimensions = np.array(image_dimensions)\n",
    "print(\"Estatísticas descritivas:\")\n",
    "print(\"Mínimo das alturas:\", np.min(image_dimensions[:, 0]))\n",
    "print(\"Máximo das alturas:\", np.max(image_dimensions[:, 0]))\n",
    "print(\"Média das alturas:\", np.mean(image_dimensions[:, 0]))\n",
    "print(\"Desvio padrão das alturas:\", np.std(image_dimensions[:, 0]))\n",
    "\n",
    "print(\"Mínimo das larguras:\", np.min(image_dimensions[:, 1]))\n",
    "print(\"Máximo das larguras:\", np.max(image_dimensions[:, 1]))\n",
    "print(\"Média das larguras:\", np.mean(image_dimensions[:, 1]))\n",
    "print(\"Desvio padrão das larguras:\", np.std(image_dimensions[:, 1]))\n"
   ]
  },
  {
   "cell_type": "code",
   "execution_count": null,
   "outputs": [],
   "source": [],
   "metadata": {
    "collapsed": false
   }
  }
 ],
 "metadata": {
  "kernelspec": {
   "display_name": "Python 3",
   "language": "python",
   "name": "python3"
  },
  "language_info": {
   "codemirror_mode": {
    "name": "ipython",
    "version": 2
   },
   "file_extension": ".py",
   "mimetype": "text/x-python",
   "name": "python",
   "nbconvert_exporter": "python",
   "pygments_lexer": "ipython2",
   "version": "2.7.6"
  }
 },
 "nbformat": 4,
 "nbformat_minor": 0
}
